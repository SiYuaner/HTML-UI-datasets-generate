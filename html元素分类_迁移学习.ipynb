{
  "nbformat": 4,
  "nbformat_minor": 0,
  "metadata": {
    "colab": {
      "name": "html元素分类-迁移学习",
      "provenance": [],
      "collapsed_sections": [],
      "mount_file_id": "1vUi--v_eJWZZxDQZWys4_FrYAcPtDYo_",
      "authorship_tag": "ABX9TyMF7hCLSFvsPTYL2QNMm/6q",
      "include_colab_link": true
    },
    "kernelspec": {
      "name": "python3",
      "display_name": "Python 3"
    }
  },
  "cells": [
    {
      "cell_type": "markdown",
      "metadata": {
        "id": "view-in-github",
        "colab_type": "text"
      },
      "source": [
        "<a href=\"https://colab.research.google.com/github/yuxizhe/HTML-UI-datasets-generate/blob/master/html%E5%85%83%E7%B4%A0%E5%88%86%E7%B1%BB_%E8%BF%81%E7%A7%BB%E5%AD%A6%E4%B9%A0.ipynb\" target=\"_parent\"><img src=\"https://colab.research.google.com/assets/colab-badge.svg\" alt=\"Open In Colab\"/></a>"
      ]
    },
    {
      "cell_type": "code",
      "metadata": {
        "id": "T-MN_Tu7HPoZ",
        "colab_type": "code",
        "colab": {}
      },
      "source": [
        "!pip install tf-nightly\n",
        "import tensorflow as tf"
      ],
      "execution_count": 0,
      "outputs": []
    },
    {
      "cell_type": "code",
      "metadata": {
        "id": "6AtlYH9erHa8",
        "colab_type": "code",
        "outputId": "29ce3d92-a8cf-4cc3-ea7b-a4c280869070",
        "colab": {
          "base_uri": "https://localhost:8080/",
          "height": 51
        }
      },
      "source": [
        "# TensorFlow and tf.keras\n",
        "\n",
        "from tensorflow import keras\n",
        "from keras.preprocessing.image import ImageDataGenerator\n",
        "from tensorflow.keras import models\n",
        "from tensorflow.keras import layers\n",
        "\n",
        "# Helper libraries\n",
        "import numpy as np\n",
        "import matplotlib.pyplot as plt\n",
        "\n",
        "print(tf.__version__)\n",
        "print(keras.__version__)"
      ],
      "execution_count": 30,
      "outputs": [
        {
          "output_type": "stream",
          "text": [
            "2.3.0-dev20200512\n",
            "2.2.4-tf\n"
          ],
          "name": "stdout"
        }
      ]
    },
    {
      "cell_type": "code",
      "metadata": {
        "id": "Lm-fCJWb_8oe",
        "colab_type": "code",
        "colab": {
          "base_uri": "https://localhost:8080/",
          "height": 51
        },
        "outputId": "15d1a220-9e5c-4127-8eae-7f2a33acdefc"
      },
      "source": [
        "!pip install -q -U tf-hub-nightly\n",
        "!pip install -q tfds-nightly\n",
        "import tensorflow_hub as hub"
      ],
      "execution_count": 3,
      "outputs": [
        {
          "output_type": "stream",
          "text": [
            "\u001b[K     |████████████████████████████████| 102kB 2.4MB/s \n",
            "\u001b[K     |████████████████████████████████| 3.3MB 2.9MB/s \n",
            "\u001b[?25h"
          ],
          "name": "stdout"
        }
      ]
    },
    {
      "cell_type": "code",
      "metadata": {
        "id": "dkvTOsfdE9dO",
        "colab_type": "code",
        "colab": {}
      },
      "source": [
        "# create a data generator\n",
        "datagen = ImageDataGenerator(rescale=(1/255))"
      ],
      "execution_count": 0,
      "outputs": []
    },
    {
      "cell_type": "markdown",
      "metadata": {
        "id": "9D5mLdy9Y6RS",
        "colab_type": "text"
      },
      "source": [
        "图片下载"
      ]
    },
    {
      "cell_type": "code",
      "metadata": {
        "id": "8O1IAzU6qjvl",
        "colab_type": "code",
        "colab": {}
      },
      "source": [
        "!cp /content/drive/My\\ Drive/Fast.io/ygd.imfast.io/components_pad.zip /content/\n",
        "!rm -rf components\n",
        "!unzip components_pad.zip > /dev/null\n",
        "!rm components_pad.zip\n"
      ],
      "execution_count": 0,
      "outputs": []
    },
    {
      "cell_type": "code",
      "metadata": {
        "id": "j1WP9JNlEpFG",
        "colab_type": "code",
        "colab": {}
      },
      "source": [
        "!cp /content/drive/My\\ Drive/Fast.io/ygd.imfast.io/valid_pad.zip /content/\n",
        "!rm -rf valid\n",
        "!unzip valid_pad.zip > /dev/null\n",
        "!rm valid_pad.zip"
      ],
      "execution_count": 0,
      "outputs": []
    },
    {
      "cell_type": "code",
      "metadata": {
        "id": "rk22wsgYl7KX",
        "colab_type": "code",
        "colab": {
          "base_uri": "https://localhost:8080/",
          "height": 34
        },
        "outputId": "52c062fb-174a-4529-cf40-70849aa44e0f"
      },
      "source": [
        "import pathlib\n",
        "import re\n",
        "\n",
        "# 文件目录处理\n",
        "data_dir = pathlib.Path('/content/components_pad_200')\n",
        "# 获取名称\n",
        "CLASS_NAMES = np.array([item.name for item in data_dir.glob('*') if re.search('\\.', item.name) == None])\n",
        "CLASS_NAMES"
      ],
      "execution_count": 7,
      "outputs": [
        {
          "output_type": "execute_result",
          "data": {
            "text/plain": [
              "array(['input', 'select', 'button'], dtype='<U6')"
            ]
          },
          "metadata": {
            "tags": []
          },
          "execution_count": 7
        }
      ]
    },
    {
      "cell_type": "code",
      "metadata": {
        "id": "BxsO2BgQ4ybY",
        "colab_type": "code",
        "colab": {}
      },
      "source": [
        ""
      ],
      "execution_count": 0,
      "outputs": []
    },
    {
      "cell_type": "code",
      "metadata": {
        "id": "cvPzzQ4o6Dtd",
        "colab_type": "code",
        "colab": {}
      },
      "source": [
        "!rm -rf valid_pad_200/\n",
        "!rm -rf components_pad_200/\n",
        "resize('/content/components')\n",
        "resize('/content/valid')"
      ],
      "execution_count": 0,
      "outputs": []
    },
    {
      "cell_type": "code",
      "metadata": {
        "id": "khDEY-5-rPEO",
        "colab_type": "code",
        "outputId": "c87edefb-a5c3-4216-e232-6576c9d231c3",
        "colab": {
          "base_uri": "https://localhost:8080/",
          "height": 34
        }
      },
      "source": [
        "# load and iterate training dataset\n",
        "# directory: 目标目录的路径。每个类应该包含一个子目录。任何在子目录树下的 PNG, JPG, BMP, PPM 或 TIF 图像，都将被包含在生成器中。更多细节，详见 此脚本。\n",
        "# target_size: 整数元组 (height, width)，默认：(256, 256)。所有的图像将被调整到的尺寸。\n",
        "# color_mode: \"grayscale\", \"rbg\" 之一。默认：\"rgb\"。图像是否被转换成 1 或 3 个颜色通道。\n",
        "# classes: 可选的类的子目录列表（例如 ['dogs', 'cats']）。默认：None。如果未提供，类的列表将自动从 directory 下的 子目录名称/结构 中推断出来，其中每个子目录都将被作为不同的类（类名将按字典序映射到标签的索引）。包含从类名到类索引的映射的字典可以通过 class_indices 属性获得。\n",
        "# class_mode: \"categorical\", \"binary\", \"sparse\", \"input\" 或 None 之一。默认：\"categorical\"。决定返回的标签数组的类型：\n",
        "# \"categorical\" 将是 2D one-hot 编码标签，\n",
        "# \"binary\" 将是 1D 二进制标签，\"sparse\" 将是 1D 整数标签，\n",
        "train_data = datagen.flow_from_directory('/content/components_pad_200',\n",
        "                                         target_size=(224,224),\n",
        "                                        #  color_mode=\"grayscale\",\n",
        "                                        #  class_mode='binary',\n",
        "                                        #  batch_size=64,\n",
        "                                         classes=list(CLASS_NAMES))"
      ],
      "execution_count": 65,
      "outputs": [
        {
          "output_type": "stream",
          "text": [
            "Found 69 images belonging to 3 classes.\n"
          ],
          "name": "stdout"
        }
      ]
    },
    {
      "cell_type": "code",
      "metadata": {
        "id": "YFpK_yRzFGof",
        "colab_type": "code",
        "outputId": "e86319e0-4b29-4744-d141-160f7123a401",
        "colab": {
          "base_uri": "https://localhost:8080/",
          "height": 34
        }
      },
      "source": [
        "valid_data = datagen.flow_from_directory('/content/valid_pad_200',\n",
        "                                         target_size=(224,224),\n",
        "                                        #  color_mode=\"grayscale\",\n",
        "                                        #  class_mode='binary',\n",
        "                                        #  batch_size=64,\n",
        "                                         classes=list(CLASS_NAMES))"
      ],
      "execution_count": 66,
      "outputs": [
        {
          "output_type": "stream",
          "text": [
            "Found 6 images belonging to 3 classes.\n"
          ],
          "name": "stdout"
        }
      ]
    },
    {
      "cell_type": "code",
      "metadata": {
        "id": "GrT2q7GH3-jX",
        "colab_type": "code",
        "colab": {}
      },
      "source": [
        "def show_batch(image_batch, label_batch):\n",
        "  plt.figure(figsize=(10,10))\n",
        "  for n in range(5):\n",
        "      ax = plt.subplot(5,5,n+1)\n",
        "      plt.imshow(image_batch[n].squeeze())\n",
        "      # plt.title(CLASS_NAMES[int(label_batch[n])])\n",
        "      plt.axis('off')"
      ],
      "execution_count": 0,
      "outputs": []
    },
    {
      "cell_type": "code",
      "metadata": {
        "id": "aVrd9_fz4AJT",
        "colab_type": "code",
        "colab": {
          "base_uri": "https://localhost:8080/",
          "height": 142
        },
        "outputId": "dc418cb3-e8bf-4d55-93da-fe0f4108f70f"
      },
      "source": [
        "image_batch, label_batch = next(train_data)\n",
        "show_batch(image_batch, label_batch)\n",
        "label_batch.shape"
      ],
      "execution_count": 70,
      "outputs": [
        {
          "output_type": "execute_result",
          "data": {
            "text/plain": [
              "(32, 3)"
            ]
          },
          "metadata": {
            "tags": []
          },
          "execution_count": 70
        },
        {
          "output_type": "display_data",
          "data": {
            "image/png": "[encoded data removed]",
            "text/plain": [
              "<Figure size 720x720 with 5 Axes>"
            ]
          },
          "metadata": {
            "tags": [],
            "needs_background": "light"
          }
        }
      ]
    },
    {
      "cell_type": "code",
      "metadata": {
        "id": "-Vzf8AQ-zm2E",
        "colab_type": "code",
        "colab": {}
      },
      "source": [
        "# confirm the iterator works\n",
        "#batchX, batchy = train_data.next()\n",
        "#x,y = valid_data.next()"
      ],
      "execution_count": 0,
      "outputs": []
    },
    {
      "cell_type": "code",
      "metadata": {
        "id": "xI8tXv7J5a2W",
        "colab_type": "code",
        "colab": {}
      },
      "source": [
        "# 方法一：全连接的训练\n",
        "# model = keras.Sequential([\n",
        "#     keras.layers.Flatten(input_shape=(200, 200)),\n",
        "#     keras.layers.Dense(1000, activation='relu'),\n",
        "#     keras.layers.Dense(100, activation='relu'),\n",
        "#     keras.layers.Dense(6)\n",
        "# ])\n",
        "\n",
        "# 方法二：自建CNN训练\n",
        "# model = models.Sequential()\n",
        "# model.add(layers.Conv2D(32, (3, 3), activation='relu', input_shape=(100, 100, 1)))\n",
        "# model.add(layers.MaxPooling2D((2, 2)))\n",
        "# model.add(layers.Conv2D(64, (3, 3), activation='relu')) \n",
        "# model.add(layers.MaxPooling2D((2, 2)))\n",
        "# model.add(layers.Conv2D(64, (3, 3), activation='relu'))\n",
        "\n",
        "# model.add(layers.Flatten())\n",
        "# model.add(layers.Dense(500, activation='relu'))\n",
        "# model.add(layers.Dense(3, activation='softmax'))\n",
        "# model.summary()\n",
        "\n",
        "# model.compile(optimizer='adam',\n",
        "#               loss=tf.keras.losses.BinaryCrossentropy(from_logits=True),\n",
        "#               metrics=['accuracy'])\n",
        "# fit model\n",
        "# model.fit_generator(train_data, epochs=10, steps_per_epoch=20, validation_data=valid_data, validation_steps=8)\n"
      ],
      "execution_count": 0,
      "outputs": []
    },
    {
      "cell_type": "code",
      "metadata": {
        "id": "RisF-sg3AGPB",
        "colab_type": "code",
        "colab": {}
      },
      "source": [
        "# 方法三：迁移学习\n",
        "\n",
        "feature_extractor_url = \"https://tfhub.dev/google/tf2-preview/mobilenet_v2/feature_vector/2\" \n",
        "\n",
        "IMAGE_SHAPE = (224, 224)\n",
        "\n",
        "feature_extractor_layer = hub.KerasLayer(feature_extractor_url, input_shape=(224, 224, 3))\n",
        "\n"
      ],
      "execution_count": 0,
      "outputs": []
    },
    {
      "cell_type": "code",
      "metadata": {
        "id": "Jw__m0OND6eg",
        "colab_type": "code",
        "colab": {
          "base_uri": "https://localhost:8080/",
          "height": 34
        },
        "outputId": "7a75f852-65e8-4be8-f104-9e3e016f30e6"
      },
      "source": [
        "feature_batch = feature_extractor_layer(image_batch)\n",
        "print(feature_batch.shape)"
      ],
      "execution_count": 72,
      "outputs": [
        {
          "output_type": "stream",
          "text": [
            "(32, 1280)\n"
          ],
          "name": "stdout"
        }
      ]
    },
    {
      "cell_type": "code",
      "metadata": {
        "id": "H6t4G5OJEpnt",
        "colab_type": "code",
        "colab": {}
      },
      "source": [
        "feature_extractor_layer.trainable = False"
      ],
      "execution_count": 0,
      "outputs": []
    },
    {
      "cell_type": "code",
      "metadata": {
        "id": "JVJTGLZCBs_k",
        "colab_type": "code",
        "colab": {
          "base_uri": "https://localhost:8080/",
          "height": 221
        },
        "outputId": "91ecac3c-d11f-4472-97a3-21167fa55bc7"
      },
      "source": [
        "model = tf.keras.Sequential([\n",
        "  feature_extractor_layer,\n",
        "  layers.Dense(3)\n",
        "])\n",
        "\n",
        "model.summary()"
      ],
      "execution_count": 74,
      "outputs": [
        {
          "output_type": "stream",
          "text": [
            "Model: \"sequential_9\"\n",
            "_________________________________________________________________\n",
            "Layer (type)                 Output Shape              Param #   \n",
            "=================================================================\n",
            "keras_layer_3 (KerasLayer)   (None, 1280)              2257984   \n",
            "_________________________________________________________________\n",
            "dense_4 (Dense)              (None, 3)                 3843      \n",
            "=================================================================\n",
            "Total params: 2,261,827\n",
            "Trainable params: 3,843\n",
            "Non-trainable params: 2,257,984\n",
            "_________________________________________________________________\n"
          ],
          "name": "stdout"
        }
      ]
    },
    {
      "cell_type": "code",
      "metadata": {
        "id": "yyO0mciaOZGC",
        "colab_type": "code",
        "colab": {}
      },
      "source": [
        "predictions = model(image_batch)"
      ],
      "execution_count": 0,
      "outputs": []
    },
    {
      "cell_type": "code",
      "metadata": {
        "id": "VhKUqyP-OhvQ",
        "colab_type": "code",
        "colab": {
          "base_uri": "https://localhost:8080/",
          "height": 34
        },
        "outputId": "9c55e143-6012-4e8b-94ba-271fa28abe53"
      },
      "source": [
        "predictions.shape"
      ],
      "execution_count": 76,
      "outputs": [
        {
          "output_type": "execute_result",
          "data": {
            "text/plain": [
              "TensorShape([32, 3])"
            ]
          },
          "metadata": {
            "tags": []
          },
          "execution_count": 76
        }
      ]
    },
    {
      "cell_type": "code",
      "metadata": {
        "id": "-tgaR3zZOpbl",
        "colab_type": "code",
        "colab": {}
      },
      "source": [
        "model.compile(\n",
        "  optimizer=tf.keras.optimizers.Adam(),\n",
        "  loss=tf.keras.losses.CategoricalCrossentropy(from_logits=True),\n",
        "  metrics=['acc'])"
      ],
      "execution_count": 0,
      "outputs": []
    },
    {
      "cell_type": "code",
      "metadata": {
        "id": "zkehfDUBO3SC",
        "colab_type": "code",
        "colab": {
          "base_uri": "https://localhost:8080/",
          "height": 394
        },
        "outputId": "9353413e-d110-4bda-ae44-99b7998ebbc6"
      },
      "source": [
        "model.fit_generator(train_data, epochs=10, steps_per_epoch=20, validation_data=valid_data, validation_steps=8)\n"
      ],
      "execution_count": 79,
      "outputs": [
        {
          "output_type": "stream",
          "text": [
            "Epoch 1/10\n",
            "20/20 [==============================] - 19s 952ms/step - loss: 0.7890 - acc: 0.6519 - val_loss: 0.4117 - val_acc: 1.0000\n",
            "Epoch 2/10\n",
            "20/20 [==============================] - 18s 876ms/step - loss: 0.4116 - acc: 0.8182 - val_loss: 0.4260 - val_acc: 0.8333\n",
            "Epoch 3/10\n",
            "20/20 [==============================] - 19s 929ms/step - loss: 0.2773 - acc: 0.9017 - val_loss: 0.3055 - val_acc: 0.8333\n",
            "Epoch 4/10\n",
            "20/20 [==============================] - 18s 925ms/step - loss: 0.1971 - acc: 0.9379 - val_loss: 0.3098 - val_acc: 0.8333\n",
            "Epoch 5/10\n",
            "20/20 [==============================] - 18s 881ms/step - loss: 0.1545 - acc: 0.9889 - val_loss: 0.2547 - val_acc: 0.8333\n",
            "Epoch 6/10\n",
            "20/20 [==============================] - 18s 924ms/step - loss: 0.1259 - acc: 0.9916 - val_loss: 0.2012 - val_acc: 1.0000\n",
            "Epoch 7/10\n",
            "20/20 [==============================] - 18s 922ms/step - loss: 0.1056 - acc: 0.9956 - val_loss: 0.2170 - val_acc: 1.0000\n",
            "Epoch 8/10\n",
            "20/20 [==============================] - 18s 880ms/step - loss: 0.0871 - acc: 1.0000 - val_loss: 0.1825 - val_acc: 1.0000\n",
            "Epoch 9/10\n",
            "20/20 [==============================] - 19s 930ms/step - loss: 0.0777 - acc: 0.9979 - val_loss: 0.2199 - val_acc: 0.8333\n",
            "Epoch 10/10\n",
            "20/20 [==============================] - 19s 931ms/step - loss: 0.0710 - acc: 1.0000 - val_loss: 0.1600 - val_acc: 1.0000\n"
          ],
          "name": "stdout"
        },
        {
          "output_type": "execute_result",
          "data": {
            "text/plain": [
              "<tensorflow.python.keras.callbacks.History at 0x7f832a1eeba8>"
            ]
          },
          "metadata": {
            "tags": []
          },
          "execution_count": 79
        }
      ]
    },
    {
      "cell_type": "markdown",
      "metadata": {
        "id": "2YzWBMWmSrn4",
        "colab_type": "text"
      },
      "source": [
        "检验"
      ]
    },
    {
      "cell_type": "code",
      "metadata": {
        "id": "eb7x_ZwhSRPs",
        "colab_type": "code",
        "colab": {
          "base_uri": "https://localhost:8080/",
          "height": 34
        },
        "outputId": "6f709b5d-3e92-4d7b-ae38-833ee252102f"
      },
      "source": [
        "class_names = sorted(train_data.class_indices.items(), key=lambda pair:pair[1])\n",
        "class_names = np.array([key.title() for key, value in class_names])\n",
        "class_names"
      ],
      "execution_count": 81,
      "outputs": [
        {
          "output_type": "execute_result",
          "data": {
            "text/plain": [
              "array(['Input', 'Select', 'Button'], dtype='<U6')"
            ]
          },
          "metadata": {
            "tags": []
          },
          "execution_count": 81
        }
      ]
    },
    {
      "cell_type": "code",
      "metadata": {
        "id": "vAq8JTifSjbE",
        "colab_type": "code",
        "colab": {}
      },
      "source": [
        "predicted_batch = model.predict(image_batch)\n",
        "predicted_id = np.argmax(predicted_batch, axis=-1)\n",
        "predicted_label_batch = class_names[predicted_id]"
      ],
      "execution_count": 0,
      "outputs": []
    },
    {
      "cell_type": "code",
      "metadata": {
        "id": "qzJ1H79AS3fa",
        "colab_type": "code",
        "colab": {}
      },
      "source": [
        "label_id = np.argmax(label_batch, axis=-1)"
      ],
      "execution_count": 0,
      "outputs": []
    },
    {
      "cell_type": "code",
      "metadata": {
        "id": "k5u0AmutS5kq",
        "colab_type": "code",
        "colab": {
          "base_uri": "https://localhost:8080/",
          "height": 954
        },
        "outputId": "0fa48bb1-9281-4366-f2dc-e6e27339e243"
      },
      "source": [
        "plt.figure(figsize=(15,15))\n",
        "plt.subplots_adjust(hspace=0.5)\n",
        "for n in range(30):\n",
        "  plt.subplot(6,5,n+1)\n",
        "  plt.imshow(image_batch[n])\n",
        "  color = \"green\" if predicted_id[n] == label_id[n] else \"red\"\n",
        "  plt.title(predicted_label_batch[n].title(), color=color)\n",
        "  plt.axis('off')\n",
        "_ = plt.suptitle(\"Model predictions (green: correct, red: incorrect)\")"
      ],
      "execution_count": 86,
      "outputs": [
        {
          "output_type": "display_data",
          "data": {
            "image/png": "[encoded data removed]",
            "text/plain": [
              "<Figure size 1080x1080 with 30 Axes>"
            ]
          },
          "metadata": {
            "tags": [],
            "needs_background": "light"
          }
        }
      ]
    },
    {
      "cell_type": "code",
      "metadata": {
        "id": "vIr6X-f8Tb66",
        "colab_type": "code",
        "colab": {
          "base_uri": "https://localhost:8080/",
          "height": 68
        },
        "outputId": "8623537e-5f97-4af5-ee62-18a73877e551"
      },
      "source": [
        "# 导出模型\n",
        "\n",
        "import time\n",
        "t = time.time()\n",
        "\n",
        "export_path = \"/content/model/{}\".format(int(t))\n",
        "model.save(export_path, save_format='tf')\n",
        "\n",
        "!cp -r /content/model /content/drive/My\\ Drive/Fast.io/ygd.imfast.io/model \n",
        "export_path"
      ],
      "execution_count": 90,
      "outputs": [
        {
          "output_type": "stream",
          "text": [
            "INFO:tensorflow:Assets written to: /content/model/1589361295/assets\n"
          ],
          "name": "stdout"
        },
        {
          "output_type": "stream",
          "text": [
            "INFO:tensorflow:Assets written to: /content/model/1589361295/assets\n"
          ],
          "name": "stderr"
        },
        {
          "output_type": "execute_result",
          "data": {
            "text/plain": [
              "'/content/model/1589361295'"
            ]
          },
          "metadata": {
            "tags": []
          },
          "execution_count": 90
        }
      ]
    },
    {
      "cell_type": "markdown",
      "metadata": {
        "colab_type": "text",
        "id": "AhQ9liIUsPsi"
      },
      "source": [
        "Now confirm that we can reload it, and it still gives the same results:"
      ]
    },
    {
      "cell_type": "code",
      "metadata": {
        "colab_type": "code",
        "id": "7nI5fvkAQvbS",
        "colab": {}
      },
      "source": [
        "reloaded = tf.keras.models.load_model(export_path)"
      ],
      "execution_count": 0,
      "outputs": []
    },
    {
      "cell_type": "code",
      "metadata": {
        "colab_type": "code",
        "id": "jor83-LqI8xW",
        "colab": {}
      },
      "source": [
        "reloaded_result_batch = reloaded.predict(image_batch)\n",
        "reloaded_result_batch"
      ],
      "execution_count": 0,
      "outputs": []
    }
  ]
}