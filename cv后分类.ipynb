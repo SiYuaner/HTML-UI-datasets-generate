{
  "nbformat": 4,
  "nbformat_minor": 0,
  "metadata": {
    "colab": {
      "name": "cv后分类",
      "provenance": [],
      "collapsed_sections": [],
      "mount_file_id": "1sq4l__foNb5_MiX-FKTW7ebeD6YfSFAm",
      "authorship_tag": "ABX9TyM3avogBGKPNC6SClKFcBSQ",
      "include_colab_link": true
    },
    "kernelspec": {
      "name": "python3",
      "display_name": "Python 3"
    }
  },
  "cells": [
    {
      "cell_type": "markdown",
      "metadata": {
        "id": "view-in-github",
        "colab_type": "text"
      },
      "source": [
        "<a href=\"https://colab.research.google.com/github/yuxizhe/HTML-UI-datasets-generate/blob/master/cv%E5%90%8E%E5%88%86%E7%B1%BB.ipynb\" target=\"_parent\"><img src=\"https://colab.research.google.com/assets/colab-badge.svg\" alt=\"Open In Colab\"/></a>"
      ]
    },
    {
      "cell_type": "code",
      "metadata": {
        "id": "aK38VNLGKTF3",
        "colab_type": "code",
        "colab": {}
      },
      "source": [
        "!wget 'https://drive.google.com/uc?export=download&id=1XRBS9hxK4l1zMQuMNZuefa12r52yKwX2' -O pic.zip\n",
        "!rm -rf pic\n",
        "!unzip -q pic.zip"
      ],
      "execution_count": 0,
      "outputs": []
    },
    {
      "cell_type": "code",
      "metadata": {
        "id": "zXGXhxJmuTY0",
        "colab_type": "code",
        "colab": {}
      },
      "source": [
        "!pip install tf-nightly\n",
        "import tensorflow as tf\n",
        "from tensorflow import keras\n",
        "from keras.preprocessing.image import ImageDataGenerator"
      ],
      "execution_count": 0,
      "outputs": []
    },
    {
      "cell_type": "code",
      "metadata": {
        "id": "1r04mZ0UBS0K",
        "colab_type": "code",
        "colab": {}
      },
      "source": [
        "# tesseract 中文识别\n",
        "\n",
        "# 环境安装\n",
        "! apt install tesseract-ocr\n",
        "#加载中文语言包\n",
        "! apt install tesseract-ocr-chi-sim\n",
        "\n",
        "!pip install pillow\n",
        "!pip install pytesseract"
      ],
      "execution_count": 0,
      "outputs": []
    },
    {
      "cell_type": "code",
      "metadata": {
        "id": "kTEayNFdBLpt",
        "colab_type": "code",
        "colab": {}
      },
      "source": [
        "# 文字识别\n",
        "import pytesseract\n",
        "from pytesseract import Output"
      ],
      "execution_count": 0,
      "outputs": []
    },
    {
      "cell_type": "code",
      "metadata": {
        "id": "hjnJeoBVHtP7",
        "colab_type": "code",
        "colab": {}
      },
      "source": [
        "# 识别元素内及元素前的文字\n",
        "\n",
        "def element_ocr(cropped, img, x, y, w, h):\n",
        "  # 识别矩形中的文字\n",
        "  inner_text = pytesseract.image_to_string(cropped, lang='chi_sim')\n",
        "  print('元素内文字:  '+ inner_text)\n",
        "  \n",
        "  # 识别矩形前的文字 往前100\n",
        "  textAreaBefore = img[y:y+h,max(0,x-300):x]\n",
        "  cv2_imshow(textAreaBefore)\n",
        "  # 识别前序文字\n",
        "  before_text = pytesseract.image_to_string(textAreaBefore, lang='chi_sim')\n",
        "  print('元素前区域文字：  '+before_text)\n",
        "\n",
        "  return inner_text,before_text"
      ],
      "execution_count": 0,
      "outputs": []
    },
    {
      "cell_type": "code",
      "metadata": {
        "id": "VlpQC4vvn_2s",
        "colab_type": "code",
        "colab": {}
      },
      "source": [
        "import cv2\n",
        "import numpy as np\n",
        "from google.colab.patches import cv2_imshow\n",
        "\n",
        "#获取图片内矩形函数\n",
        "def cv_get_block(location):\n",
        "  img = cv2.imread(location)\n",
        "  # img resize to 700\n",
        "  img = cv2.resize(img, (700,int(700/img.shape[1]*img.shape[0])), interpolation=cv2.INTER_AREA)\n",
        "\n",
        "  # 转为灰度\n",
        "  gray = cv2.cvtColor(img, cv2.COLOR_BGR2GRAY)\n",
        "  # 边缘检测\n",
        "  binary = cv2.Canny(gray,50,100)\n",
        "\n",
        "  #cv2_imshow(binary)\n",
        "\n",
        "  #检测轮廓\n",
        "  # RETR_EXTERNAL  表示只检测最外层轮廓\n",
        "  contours, hier = cv2.findContours(binary, cv2.RETR_EXTERNAL, cv2.CHAIN_APPROX_SIMPLE)\n",
        "\n",
        "  # 裁剪出的图片\n",
        "  croppedImage = []\n",
        "  # 位置信息和文案信息\n",
        "  positionAndText = []\n",
        "\n",
        "  for c in contours:  #遍历轮廓\n",
        "      rect = cv2.minAreaRect(c)  #生成最小外接矩形\n",
        "\n",
        "      # 计算最小面积矩形的坐标\n",
        "      # 这个返回坐标点顺序是随机的\n",
        "      box = cv2.boxPoints(rect)\n",
        "      box = np.int0(box)  # 将坐标规范化为整数\n",
        "\n",
        "      h = int(abs(box[3, 1] - box[1, 1]))\n",
        "      w = int(abs(box[3, 0] - box[1, 0]))\n",
        "      y = min(box[2][1],box[0][1])\n",
        "      x = min(box[2][0],box[0][0])\n",
        "\n",
        "      # 去除太小太大 的矩形，只保留合适的\n",
        "      if (h > 500 or w > 600):\n",
        "          continue\n",
        "      if (h < 20 or w < 60):\n",
        "          continue\n",
        "      \n",
        "      #print(h,w)\n",
        "      #print(box)\n",
        "      # 取出图片\n",
        "      # image[y:y+h, x:x+w]  \n",
        "      cropped = img[y-5:y+h+5, x-5:x+w+5]\n",
        "\n",
        "      print('\\n 元素识别：')\n",
        "      cv2_imshow(cropped)\n",
        "\n",
        "      # 识别矩形中的文字\n",
        "      inner_text, before_text = element_ocr(cropped, img, x, y, w, h)\n",
        "      \n",
        "      # 传出\n",
        "      positionAndText.append([box,inner_text,before_text])\n",
        "      \n",
        "      # 格式化为正方形\n",
        "      cropped = resize_image(cropped)\n",
        "      croppedImage.append(cropped)\n",
        "      # 绘制矩形\n",
        "      cv2.drawContours(img, [box], 0, (255, 0, 255), 1)\n",
        "  #cv2_imshow(img)\n",
        "\n",
        "  # 输出 array 而不是list \n",
        "  # 'Input data in `NumpyArrayIterator` should have rank 4. You passed an array with shape', (224, 224, 3))\n",
        "  # 因为 ImageDataGenerator.flow 输入为 NumpyArray\n",
        "  return np.array(croppedImage), np.array(positionAndText), img"
      ],
      "execution_count": 0,
      "outputs": []
    },
    {
      "cell_type": "code",
      "metadata": {
        "id": "r8aMn51mzeb5",
        "colab_type": "code",
        "colab": {}
      },
      "source": [
        "# 图像归一为 224 224\n",
        "import os\n",
        "import cv2\n",
        "import glob\n",
        "import numpy as np\n",
        "\n",
        "min_side = 224\n",
        "\n",
        "def resize_image(img):\n",
        "    size = img.shape\n",
        "    h, w = size[0], size[1]\n",
        "    #长边缩放为min_side \n",
        "    scale = max(w, h) / float(min_side)\n",
        "    new_w, new_h = int(w/scale), int(h/scale)\n",
        "    resize_img = cv2.resize(img, (new_w, new_h))\n",
        "    # 填充至min_side * min_side\n",
        "    if new_w % 2 != 0 and new_h % 2 == 0:\n",
        "        top, bottom, left, right = (min_side-new_h)/2, (min_side-new_h)/2, (min_side-new_w)/2 + 1, (min_side-new_w)/2\n",
        "    elif new_h % 2 != 0 and new_w % 2 == 0:\n",
        "        top, bottom, left, right = (min_side-new_h)/2 + 1, (min_side-new_h)/2, (min_side-new_w)/2, (min_side-new_w)/2\n",
        "    elif new_h % 2 == 0 and new_w % 2 == 0:\n",
        "        top, bottom, left, right = (min_side-new_h)/2, (min_side-new_h)/2, (min_side-new_w)/2, (min_side-new_w)/2\n",
        "    else:\n",
        "        top, bottom, left, right = (min_side-new_h)/2 + 1, (min_side-new_h)/2, (min_side-new_w)/2 + 1, (min_side-new_w)/2\n",
        "    pad_img = cv2.copyMakeBorder(resize_img, int(top), int(bottom), int(left), int(right), cv2.BORDER_CONSTANT, value=[255,255,255]) #从图像边界向上,下,左,右扩的像素数目\n",
        "    #print pad_img.shape\n",
        "    #cv2.imwrite(\"after-\" + os.path.basename(filename), pad_img)\n",
        "    return pad_img\n"
      ],
      "execution_count": 0,
      "outputs": []
    },
    {
      "cell_type": "code",
      "metadata": {
        "id": "_aatUIT5O_A9",
        "colab_type": "code",
        "colab": {}
      },
      "source": [
        "# 输出分类结果\n",
        "import matplotlib.pyplot as plt\n",
        "def result_show(image_batch, predicted_name):\n",
        "  plt.figure(figsize=(15,15))\n",
        "  plt.subplots_adjust(hspace=0.5)\n",
        "  for n in range(len(predicted_name)):\n",
        "    plt.subplot(6,5,n+1)\n",
        "    plt.imshow(image_batch[n])\n",
        "    plt.title(predicted_name[n].title())\n",
        "    plt.axis('off')"
      ],
      "execution_count": 0,
      "outputs": []
    },
    {
      "cell_type": "code",
      "metadata": {
        "id": "5BLYkLCTAiJO",
        "colab_type": "code",
        "colab": {}
      },
      "source": [
        "# 在图片上显示结果\n",
        "# 通过ImageDataGenerator.flow 后 顺序会变化\n",
        "def result_show_in_image(img, boxes, predicted_name):\n",
        "  newImage = img.copy()\n",
        "  for index in range(len(boxes)):\n",
        "    item = boxes[index]\n",
        "    box = item[0]\n",
        "    name = predicted_name[index]\n",
        "    text = name + ' ：'+ item[1] + '     before：'+ item[2]\n",
        "    print('组件'+ str(index) + ': ' + text)\n",
        "    cv2.putText(newImage, name, (min(box[2][0],box[0][0]) + 10, max(box[2][1],box[0][1]) - 10), cv2.FONT_HERSHEY_SIMPLEX, 0.5, (225,0,225), 1)\n",
        "  cv2_imshow(newImage)"
      ],
      "execution_count": 0,
      "outputs": []
    },
    {
      "cell_type": "code",
      "metadata": {
        "id": "2i1sELXoM_IX",
        "colab_type": "code",
        "colab": {}
      },
      "source": [
        "# 显示 ImageDataGenerator 处理后的图形\n",
        "def show_batch(image_batch):\n",
        "  plt.figure(figsize=(10,10))\n",
        "  for n in range(len(image_batch)):\n",
        "      ax = plt.subplot(5,5,n+1)\n",
        "      plt.imshow(image_batch[n].squeeze())\n",
        "      # plt.title(CLASS_NAMES[int(label_batch[n])])\n",
        "      plt.axis('off')"
      ],
      "execution_count": 0,
      "outputs": []
    },
    {
      "cell_type": "code",
      "metadata": {
        "id": "pIRNa82tsZnV",
        "colab_type": "code",
        "colab": {}
      },
      "source": [
        "# 复制训练好的模型\n",
        "!cp -rp /content/drive/My\\ Drive/Fast.io/ygd.imfast.io/model/1589361295 /content/model/"
      ],
      "execution_count": 0,
      "outputs": []
    },
    {
      "cell_type": "code",
      "metadata": {
        "id": "zq09WiApuIJU",
        "colab_type": "code",
        "colab": {}
      },
      "source": [
        "# 加载模型\n",
        "html_model = tf.keras.models.load_model('/content/model/')"
      ],
      "execution_count": 0,
      "outputs": []
    },
    {
      "cell_type": "code",
      "metadata": {
        "id": "16Vi546kVcX3",
        "colab_type": "code",
        "colab": {}
      },
      "source": [
        "# create a data generator\n",
        "datagen = ImageDataGenerator(rescale=(1/255))"
      ],
      "execution_count": 0,
      "outputs": []
    },
    {
      "cell_type": "code",
      "metadata": {
        "id": "xvlES5W9yxIg",
        "colab_type": "code",
        "outputId": "179880bc-4b1f-4138-f871-ea04f8ddba64",
        "colab": {
          "base_uri": "https://localhost:8080/",
          "height": 1000
        }
      },
      "source": [
        "# 从图片CV获取元素\n",
        "images,positionAndText ,img = cv_get_block('/content/pic/crm/1.png')\n",
        "\n",
        "# 矩形元素 通过ImageDataGenerator 图像进一步处理\n",
        "# 需要注意的是，通过flow输出的数据是乱序的，并不会严格安装输入的顺序，所以对应关系要存储在label中\n",
        "input_data = datagen.flow(images, positionAndText)\n",
        "image_batch, boxes_batch = next(input_data)\n",
        "# 预测元素\n",
        "predicted_batch = html_model.predict(image_batch)\n",
        "\n",
        "# 结果归一\n",
        "predicted_id = np.argmax(predicted_batch, axis=-1)\n",
        "\n",
        "class_name = np.array(['Input', 'Select', 'Button'])\n",
        "# 结果对应上名字\n",
        "predicted_name = class_name[predicted_id]\n",
        "print(predicted_name)\n",
        "# 图示结果\n",
        "#result_show(image_batch, predicted_name)\n",
        "\n",
        "result_show_in_image(img, boxes_batch, predicted_name)"
      ],
      "execution_count": 287,
      "outputs": [
        {
          "output_type": "stream",
          "text": [
            "\n",
            " 元素识别：\n"
          ],
          "name": "stdout"
        },
        {
          "output_type": "display_data",
          "data": {
            "image/png": "[encoded data removed]",
            "text/plain": [
              "<PIL.Image.Image image mode=RGB size=240x55 at 0x7F8A7F0F15C0>"
            ]
          },
          "metadata": {
            "tags": []
          }
        },
        {
          "output_type": "stream",
          "text": [
            "元素内文字:  出 点击上传 ipa 文件\n"
          ],
          "name": "stdout"
        },
        {
          "output_type": "display_data",
          "data": {
            "image/png": "[encoded data removed]",
            "text/plain": [
              "<PIL.Image.Image image mode=RGB size=197x45 at 0x7F8A7F0F1748>"
            ]
          },
          "metadata": {
            "tags": []
          }
        },
        {
          "output_type": "stream",
          "text": [
            "元素前区域文字：  * 上传ipa 文件:\n",
            "\n",
            " 元素识别：\n"
          ],
          "name": "stdout"
        },
        {
          "output_type": "display_data",
          "data": {
            "image/png": "[encoded data removed]",
            "text/plain": [
              "<PIL.Image.Image image mode=RGB size=468x55 at 0x7F8A7F0F1908>"
            ]
          },
          "metadata": {
            "tags": []
          }
        },
        {
          "output_type": "stream",
          "text": [
            "元素内文字:  请输入版本号 (例如: 11.31)\n"
          ],
          "name": "stdout"
        },
        {
          "output_type": "display_data",
          "data": {
            "image/png": "[encoded data removed]",
            "text/plain": [
              "<PIL.Image.Image image mode=RGB size=197x45 at 0x7F8A7F0F1208>"
            ]
          },
          "metadata": {
            "tags": []
          }
        },
        {
          "output_type": "stream",
          "text": [
            "元素前区域文字：  * 版本号:\n",
            "\n",
            " 元素识别：\n"
          ],
          "name": "stdout"
        },
        {
          "output_type": "display_data",
          "data": {
            "image/png": "[encoded data removed]",
            "text/plain": [
              "<PIL.Image.Image image mode=RGB size=468x54 at 0x7F8A7F0F1668>"
            ]
          },
          "metadata": {
            "tags": []
          }
        },
        {
          "output_type": "stream",
          "text": [
            "元素内文字:  \n"
          ],
          "name": "stdout"
        },
        {
          "output_type": "display_data",
          "data": {
            "image/png": "[encoded data removed]",
            "text/plain": [
              "<PIL.Image.Image image mode=RGB size=197x44 at 0x7F8A7F0F15C0>"
            ]
          },
          "metadata": {
            "tags": []
          }
        },
        {
          "output_type": "stream",
          "text": [
            "元素前区域文字：  *Bundle id:\n",
            "\n",
            " 元素识别：\n"
          ],
          "name": "stdout"
        },
        {
          "output_type": "display_data",
          "data": {
            "image/png": "[encoded data removed]",
            "text/plain": [
              "<PIL.Image.Image image mode=RGB size=468x141 at 0x7F8A7F0F1748>"
            ]
          },
          "metadata": {
            "tags": []
          }
        },
        {
          "output_type": "stream",
          "text": [
            "元素内文字:  \n"
          ],
          "name": "stdout"
        },
        {
          "output_type": "display_data",
          "data": {
            "image/png": "[encoded data removed]",
            "text/plain": [
              "<PIL.Image.Image image mode=RGB size=197x131 at 0x7F8A7F0F15C0>"
            ]
          },
          "metadata": {
            "tags": []
          }
        },
        {
          "output_type": "stream",
          "text": [
            "元素前区域文字：  * 更新信息:\n",
            "\n",
            " 元素识别：\n"
          ],
          "name": "stdout"
        },
        {
          "output_type": "display_data",
          "data": {
            "image/png": "[encoded data removed]",
            "text/plain": [
              "<PIL.Image.Image image mode=RGB size=468x55 at 0x7F8A7F0F1908>"
            ]
          },
          "metadata": {
            "tags": []
          }
        },
        {
          "output_type": "stream",
          "text": [
            "元素内文字:  ioS\n"
          ],
          "name": "stdout"
        },
        {
          "output_type": "display_data",
          "data": {
            "image/png": "[encoded data removed]",
            "text/plain": [
              "<PIL.Image.Image image mode=RGB size=197x45 at 0x7F8A7F0F1668>"
            ]
          },
          "metadata": {
            "tags": []
          }
        },
        {
          "output_type": "stream",
          "text": [
            "元素前区域文字：  * 平台:\n",
            "\n",
            " 元素识别：\n"
          ],
          "name": "stdout"
        },
        {
          "output_type": "display_data",
          "data": {
            "image/png": "[encoded data removed]",
            "text/plain": [
              "<PIL.Image.Image image mode=RGB size=468x55 at 0x7F8A7F0F1C88>"
            ]
          },
          "metadata": {
            "tags": []
          }
        },
        {
          "output_type": "stream",
          "text": [
            "元素内文字:  Public\n"
          ],
          "name": "stdout"
        },
        {
          "output_type": "display_data",
          "data": {
            "image/png": "[encoded data removed]",
            "text/plain": [
              "<PIL.Image.Image image mode=RGB size=197x45 at 0x7F8A7F0F1320>"
            ]
          },
          "metadata": {
            "tags": []
          }
        },
        {
          "output_type": "stream",
          "text": [
            "元素前区域文字：  * 包类型:\n",
            "\n",
            " 元素识别：\n"
          ],
          "name": "stdout"
        },
        {
          "output_type": "display_data",
          "data": {
            "image/png": "[encoded data removed]",
            "text/plain": [
              "<PIL.Image.Image image mode=RGB size=468x54 at 0x7F8A7F0F1080>"
            ]
          },
          "metadata": {
            "tags": []
          }
        },
        {
          "output_type": "stream",
          "text": [
            "元素内文字:  雪球\n"
          ],
          "name": "stdout"
        },
        {
          "output_type": "display_data",
          "data": {
            "image/png": "[encoded data removed]",
            "text/plain": [
              "<PIL.Image.Image image mode=RGB size=197x44 at 0x7F8A7F0F16D8>"
            ]
          },
          "metadata": {
            "tags": []
          }
        },
        {
          "output_type": "stream",
          "text": [
            "元素前区域文字：  * APP名:\n",
            "['Input' 'Button' 'Input' 'Input' 'Input' 'Button' 'Input']\n",
            "组件0: Input ：     before：*Bundle id:\n",
            "组件1: Button ：     before：* 更新信息:\n",
            "组件2: Input ：请输入版本号 (例如: 11.31)     before：* 版本号:\n",
            "组件3: Input ：ioS     before：* 平台:\n",
            "组件4: Input ：雪球     before：* APP名:\n",
            "组件5: Button ：出 点击上传 ipa 文件     before：* 上传ipa 文件:\n",
            "组件6: Input ：Public     before：* 包类型:\n"
          ],
          "name": "stdout"
        },
        {
          "output_type": "display_data",
          "data": {
            "image/png": "[encoded data removed]",
            "text/plain": [
              "<PIL.Image.Image image mode=RGB size=700x701 at 0x7F8A7F0F1160>"
            ]
          },
          "metadata": {
            "tags": []
          }
        }
      ]
    }
  ]
}