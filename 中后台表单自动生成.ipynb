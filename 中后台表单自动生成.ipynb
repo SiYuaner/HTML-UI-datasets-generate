{
  "nbformat": 4,
  "nbformat_minor": 0,
  "metadata": {
    "colab": {
      "name": "cv后分类",
      "provenance": [],
      "collapsed_sections": [],
      "mount_file_id": "1sq4l__foNb5_MiX-FKTW7ebeD6YfSFAm",
      "authorship_tag": "ABX9TyPPxyg4e5MFmHKOL3uXLQYq",
      "include_colab_link": true
    },
    "kernelspec": {
      "name": "python3",
      "display_name": "Python 3"
    }
  },
  "cells": [
    {
      "cell_type": "markdown",
      "metadata": {
        "id": "view-in-github",
        "colab_type": "text"
      },
      "source": [
        "<a href=\"https://colab.research.google.com/github/yuxizhe/HTML-UI-datasets-generate/blob/master/%E4%B8%AD%E5%90%8E%E5%8F%B0%E8%A1%A8%E5%8D%95%E8%87%AA%E5%8A%A8%E7%94%9F%E6%88%90.ipynb\" target=\"_parent\"><img src=\"https://colab.research.google.com/assets/colab-badge.svg\" alt=\"Open In Colab\"/></a>"
      ]
    },
    {
      "cell_type": "code",
      "metadata": {
        "id": "aK38VNLGKTF3",
        "colab_type": "code",
        "colab": {}
      },
      "source": [
        "!wget 'https://drive.google.com/uc?export=download&id=1XRBS9hxK4l1zMQuMNZuefa12r52yKwX2' -O pic.zip\n",
        "!rm -rf pic\n",
        "!unzip -q pic.zip"
      ],
      "execution_count": 0,
      "outputs": []
    },
    {
      "cell_type": "code",
      "metadata": {
        "id": "zXGXhxJmuTY0",
        "colab_type": "code",
        "colab": {}
      },
      "source": [
        "!pip install tf-nightly\n",
        "import tensorflow as tf\n",
        "from tensorflow import keras\n",
        "from keras.preprocessing.image import ImageDataGenerator"
      ],
      "execution_count": 0,
      "outputs": []
    },
    {
      "cell_type": "code",
      "metadata": {
        "id": "1r04mZ0UBS0K",
        "colab_type": "code",
        "colab": {}
      },
      "source": [
        "# tesseract 中文识别\n",
        "\n",
        "# 环境安装\n",
        "! apt install tesseract-ocr\n",
        "#加载中文语言包\n",
        "! apt install tesseract-ocr-chi-sim\n",
        "\n",
        "!pip install pillow\n",
        "!pip install pytesseract"
      ],
      "execution_count": 0,
      "outputs": []
    },
    {
      "cell_type": "code",
      "metadata": {
        "id": "kTEayNFdBLpt",
        "colab_type": "code",
        "colab": {}
      },
      "source": [
        "# 文字识别\n",
        "import pytesseract\n",
        "from pytesseract import Output"
      ],
      "execution_count": 0,
      "outputs": []
    },
    {
      "cell_type": "code",
      "metadata": {
        "id": "hjnJeoBVHtP7",
        "colab_type": "code",
        "colab": {}
      },
      "source": [
        "# 识别元素内及元素前的文字\n",
        "\n",
        "def element_ocr(cropped, img, x, y, w, h):\n",
        "  img = cv2.cvtColor(img, cv2.COLOR_BGR2GRAY)\n",
        "  cropped = cv2.cvtColor(cropped, cv2.COLOR_BGR2GRAY)\n",
        "  # 识别矩形中的文字\n",
        "  inner_text = pytesseract.image_to_string(cropped, lang='chi_sim')\n",
        "  print('元素内文字:  '+ inner_text)\n",
        "  \n",
        "  # 识别矩形前的文字 往前200\n",
        "  textAreaBefore = img[y:y+h,max(0,x-200):x]\n",
        "  cv2_imshow(textAreaBefore)\n",
        "  # 识别前序文字\n",
        "  before_text = pytesseract.image_to_string(textAreaBefore, lang='chi_sim')\n",
        "  print('元素前区域文字：  '+before_text)\n",
        "\n",
        "  return inner_text,before_text"
      ],
      "execution_count": 0,
      "outputs": []
    },
    {
      "cell_type": "code",
      "metadata": {
        "id": "a9T8W04shiiq",
        "colab_type": "code",
        "colab": {}
      },
      "source": [
        "!cp /content/drive/My\\ Drive/Fast.io/ygd.imfast.io/PingFang.ttc /content/"
      ],
      "execution_count": 0,
      "outputs": []
    },
    {
      "cell_type": "code",
      "metadata": {
        "id": "zcwMfyBkjYsv",
        "colab_type": "code",
        "colab": {}
      },
      "source": [
        "# 中文字体显示\n",
        "from PIL import Image, ImageDraw, ImageFont\n",
        "\n",
        "def cv2ImgAddText(img, text, left, top, textColor=(255, 0, 255), textSize=15):\n",
        "    if (isinstance(img, np.ndarray)):  #判断是否OpenCV图片类型\n",
        "        img = Image.fromarray(cv2.cvtColor(img, cv2.COLOR_BGR2RGB))\n",
        "    draw = ImageDraw.Draw(img)\n",
        "    fontText = ImageFont.truetype(\n",
        "        \"/content/PingFang.ttc\", textSize, encoding=\"utf-8\")\n",
        "    draw.text((left, top), text, textColor, font=fontText)\n",
        "    return cv2.cvtColor(np.asarray(img), cv2.COLOR_RGB2BGR)\n"
      ],
      "execution_count": 0,
      "outputs": []
    },
    {
      "cell_type": "code",
      "metadata": {
        "id": "VlpQC4vvn_2s",
        "colab_type": "code",
        "colab": {}
      },
      "source": [
        "import cv2\n",
        "import numpy as np\n",
        "from google.colab.patches import cv2_imshow\n",
        "\n",
        "#获取图片内矩形函数\n",
        "def cv_get_block(location):\n",
        "  img = cv2.imread(location)\n",
        "  # img resize to 700\n",
        "  img = cv2.resize(img, (700,int(700/img.shape[1]*img.shape[0])), interpolation=cv2.INTER_AREA)\n",
        "\n",
        "  # 转为灰度\n",
        "  gray = cv2.cvtColor(img, cv2.COLOR_BGR2GRAY)\n",
        "  # 边缘检测\n",
        "  binary = cv2.Canny(gray,50,100)\n",
        "\n",
        "  #cv2_imshow(binary)\n",
        "\n",
        "  #检测轮廓\n",
        "  # RETR_EXTERNAL  表示只检测最外层轮廓\n",
        "  contours, hier = cv2.findContours(binary, cv2.RETR_EXTERNAL, cv2.CHAIN_APPROX_SIMPLE)\n",
        "\n",
        "  # 裁剪出的图片\n",
        "  croppedImage = []\n",
        "  # 位置信息和文案信息\n",
        "  positionAndText = []\n",
        "\n",
        "  for c in contours:  #遍历轮廓\n",
        "      rect = cv2.minAreaRect(c)  #生成最小外接矩形\n",
        "\n",
        "      # 计算最小面积矩形的坐标\n",
        "      # 这个返回坐标点顺序是随机的\n",
        "      box = cv2.boxPoints(rect)\n",
        "      box = np.int0(box)  # 将坐标规范化为整数\n",
        "\n",
        "      h = int(abs(box[3, 1] - box[1, 1]))\n",
        "      w = int(abs(box[3, 0] - box[1, 0]))\n",
        "      y = min(box[2][1],box[0][1])\n",
        "      x = min(box[2][0],box[0][0])\n",
        "\n",
        "      # 去除太小太大 的矩形，只保留合适的\n",
        "      if (h > 500 or w > 600):\n",
        "          continue\n",
        "      if (h < 20 or w < 60):\n",
        "          continue\n",
        "      \n",
        "      #print(h,w)\n",
        "      #print(box)\n",
        "      # 取出图片\n",
        "      # image[y:y+h, x:x+w]  \n",
        "      cropped = img[y-5:y+h+5, x-5:x+w+5]\n",
        "\n",
        "      print('\\n 元素识别：')\n",
        "      cv2_imshow(cropped)\n",
        "\n",
        "      # 识别矩形中的文字\n",
        "      inner_text, before_text = element_ocr(cropped, img, x, y, w, h)\n",
        "      \n",
        "      # 传出\n",
        "      positionAndText.append([box,inner_text,before_text])\n",
        "      \n",
        "      # 格式化为正方形\n",
        "      cropped = resize_image(cropped)\n",
        "      croppedImage.append(cropped)\n",
        "      # 绘制矩形\n",
        "      cv2.drawContours(img, [box], 0, (255, 0, 255), 1)\n",
        "  #cv2_imshow(img)\n",
        "\n",
        "  # 输出 array 而不是list \n",
        "  # 'Input data in `NumpyArrayIterator` should have rank 4. You passed an array with shape', (224, 224, 3))\n",
        "  # 因为 ImageDataGenerator.flow 输入为 NumpyArray\n",
        "  return np.array(croppedImage), np.array(positionAndText), img"
      ],
      "execution_count": 0,
      "outputs": []
    },
    {
      "cell_type": "code",
      "metadata": {
        "id": "r8aMn51mzeb5",
        "colab_type": "code",
        "colab": {}
      },
      "source": [
        "# 图像归一为 224 224\n",
        "import os\n",
        "import cv2\n",
        "import glob\n",
        "import numpy as np\n",
        "\n",
        "min_side = 224\n",
        "\n",
        "def resize_image(img):\n",
        "    size = img.shape\n",
        "    h, w = size[0], size[1]\n",
        "    #长边缩放为min_side \n",
        "    scale = max(w, h) / float(min_side)\n",
        "    new_w, new_h = int(w/scale), int(h/scale)\n",
        "    resize_img = cv2.resize(img, (new_w, new_h))\n",
        "    # 填充至min_side * min_side\n",
        "    if new_w % 2 != 0 and new_h % 2 == 0:\n",
        "        top, bottom, left, right = (min_side-new_h)/2, (min_side-new_h)/2, (min_side-new_w)/2 + 1, (min_side-new_w)/2\n",
        "    elif new_h % 2 != 0 and new_w % 2 == 0:\n",
        "        top, bottom, left, right = (min_side-new_h)/2 + 1, (min_side-new_h)/2, (min_side-new_w)/2, (min_side-new_w)/2\n",
        "    elif new_h % 2 == 0 and new_w % 2 == 0:\n",
        "        top, bottom, left, right = (min_side-new_h)/2, (min_side-new_h)/2, (min_side-new_w)/2, (min_side-new_w)/2\n",
        "    else:\n",
        "        top, bottom, left, right = (min_side-new_h)/2 + 1, (min_side-new_h)/2, (min_side-new_w)/2 + 1, (min_side-new_w)/2\n",
        "    pad_img = cv2.copyMakeBorder(resize_img, int(top), int(bottom), int(left), int(right), cv2.BORDER_CONSTANT, value=[255,255,255]) #从图像边界向上,下,左,右扩的像素数目\n",
        "    #print pad_img.shape\n",
        "    #cv2.imwrite(\"after-\" + os.path.basename(filename), pad_img)\n",
        "    return pad_img\n"
      ],
      "execution_count": 0,
      "outputs": []
    },
    {
      "cell_type": "code",
      "metadata": {
        "id": "_aatUIT5O_A9",
        "colab_type": "code",
        "colab": {}
      },
      "source": [
        "# 输出分类结果\n",
        "import matplotlib.pyplot as plt\n",
        "def result_show(image_batch, predicted_name):\n",
        "  plt.figure(figsize=(15,15))\n",
        "  plt.subplots_adjust(hspace=0.5)\n",
        "  for n in range(len(predicted_name)):\n",
        "    plt.subplot(6,5,n+1)\n",
        "    plt.imshow(image_batch[n])\n",
        "    plt.title(predicted_name[n].title())\n",
        "    plt.axis('off')"
      ],
      "execution_count": 0,
      "outputs": []
    },
    {
      "cell_type": "code",
      "metadata": {
        "id": "5BLYkLCTAiJO",
        "colab_type": "code",
        "colab": {}
      },
      "source": [
        "# 在图片上显示结果\n",
        "# 通过ImageDataGenerator.flow 后 顺序会变化\n",
        "def result_show_in_image(img, boxes, predicted_name):\n",
        "  newImage = img.copy()\n",
        "  for index in range(len(boxes)):\n",
        "    item = boxes[index]\n",
        "    box = item[0]\n",
        "    name = predicted_name[index]\n",
        "    text = '组件: ' + name + ' ：'+ item[1] + '     before：'+ item[2]\n",
        "    print('组件'+ str(index) + ': ' + text)\n",
        "    # 中文字体显示\n",
        "    newImage = cv2ImgAddText(newImage, text, min(box[2][0],box[0][0]) + 10, max(box[2][1],box[0][1]) - 30)\n",
        "    # cv2.putText(newImage, name, (min(box[2][0],box[0][0]) + 10, max(box[2][1],box[0][1]) - 10), cv2.FONT_HERSHEY_SIMPLEX, 0.5, (225,0,225), 1)\n",
        "  cv2_imshow(newImage)"
      ],
      "execution_count": 0,
      "outputs": []
    },
    {
      "cell_type": "code",
      "metadata": {
        "id": "2i1sELXoM_IX",
        "colab_type": "code",
        "colab": {}
      },
      "source": [
        "# 显示 ImageDataGenerator 处理后的图形\n",
        "def show_batch(image_batch):\n",
        "  plt.figure(figsize=(10,10))\n",
        "  for n in range(len(image_batch)):\n",
        "      ax = plt.subplot(5,5,n+1)\n",
        "      plt.imshow(image_batch[n].squeeze())\n",
        "      # plt.title(CLASS_NAMES[int(label_batch[n])])\n",
        "      plt.axis('off')"
      ],
      "execution_count": 0,
      "outputs": []
    },
    {
      "cell_type": "code",
      "metadata": {
        "id": "pIRNa82tsZnV",
        "colab_type": "code",
        "colab": {}
      },
      "source": [
        "# 复制训练好的模型\n",
        "!rm -rf /content/model/\n",
        "!cp -rp /content/drive/My\\ Drive/Fast.io/ygd.imfast.io/model/1589869679 /content/model/"
      ],
      "execution_count": 0,
      "outputs": []
    },
    {
      "cell_type": "code",
      "metadata": {
        "id": "zq09WiApuIJU",
        "colab_type": "code",
        "colab": {}
      },
      "source": [
        "# 加载模型\n",
        "html_model = tf.keras.models.load_model('/content/model/')"
      ],
      "execution_count": 0,
      "outputs": []
    },
    {
      "cell_type": "code",
      "metadata": {
        "id": "16Vi546kVcX3",
        "colab_type": "code",
        "colab": {}
      },
      "source": [
        "# create a data generator\n",
        "datagen = ImageDataGenerator(rescale=(1/255))"
      ],
      "execution_count": 0,
      "outputs": []
    },
    {
      "cell_type": "code",
      "metadata": {
        "id": "WqYa639R68Uf",
        "colab_type": "code",
        "colab": {}
      },
      "source": [
        "# 翻译 获取英文驼峰命名\n",
        "import json\n",
        "\n",
        "import requests\n",
        "import re\n",
        "\n",
        "# 下划线转驼峰\n",
        "def str2Hump(text):\n",
        "    arr = filter(None, text.lower().split(' '))\n",
        "    res = ''\n",
        "    j = 0\n",
        "    for i in arr:\n",
        "        if j == 0:\n",
        "            res = i\n",
        "        else:\n",
        "            res = res + i[0].upper() + i[1:]\n",
        "        j += 1\n",
        "    return res\n",
        "\n",
        "# 翻译函数，word 需要翻译的内容\n",
        "def translate(word):\n",
        "    word = re.sub(r'[^\\w\\s]','', word or '默认值')\n",
        "    # 有道词典 api\n",
        "    url = 'http://fanyi.youdao.com/translate?smartresult=dict&smartresult=rule&smartresult=ugc&sessionFrom=null'\n",
        "    # 传输的参数，其中 i 为需要翻译的内容\n",
        "    key = {\n",
        "        'type': \"AUTO\",\n",
        "        'i': word,\n",
        "        \"doctype\": \"json\",\n",
        "        \"version\": \"2.1\",\n",
        "        \"keyfrom\": \"fanyi.web\",\n",
        "        \"ue\": \"UTF-8\",\n",
        "        \"action\": \"FY_BY_CLICKBUTTON\",\n",
        "        \"typoResult\": \"true\"\n",
        "    }\n",
        "    # key 这个字典为发送给有道词典服务器的内容\n",
        "    response = requests.post(url, data=key)\n",
        "    # 判断服务器是否相应成功\n",
        "    if response.status_code == 200:\n",
        "        # 然后相应的结果\n",
        "        result = json.loads(response.text)\n",
        "        text = result['translateResult'][0][0]['tgt']\n",
        "        text = str2Hump(text)\n",
        "        print('表单项：' + word + '———— 驼峰命名：' + text)\n",
        "        return text\n",
        "    else:\n",
        "        print(\"有道词典调用失败\")\n",
        "        # 相应失败就返回空\n",
        "        return None"
      ],
      "execution_count": 0,
      "outputs": []
    },
    {
      "cell_type": "code",
      "metadata": {
        "id": "FXHMS0ayEOn7",
        "colab_type": "code",
        "colab": {}
      },
      "source": [
        "from google.colab import files\n",
        "\n"
      ],
      "execution_count": 0,
      "outputs": []
    },
    {
      "cell_type": "code",
      "metadata": {
        "id": "P5HhysaADiK-",
        "colab_type": "code",
        "colab": {
          "resources": {
            "http://localhost:8080/nbextensions/google.colab/files.js": {
              "data": "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",
              "ok": true,
              "headers": [
                [
                  "content-type",
                  "application/javascript"
                ]
              ],
              "status": 200,
              "status_text": ""
            }
          },
          "base_uri": "https://localhost:8080/",
          "height": 88
        },
        "outputId": "3efa7cc5-5012-496f-fb90-13cef388be3f"
      },
      "source": [
        "uploaded = files.upload()\n",
        "\n",
        "name = ''\n",
        "\n",
        "for fn in uploaded.keys():\n",
        "  name = fn\n",
        "  print('User uploaded file \"{name}\" with length {length} bytes'.format(\n",
        "      name=fn, length=len(uploaded[fn])))"
      ],
      "execution_count": 137,
      "outputs": [
        {
          "output_type": "display_data",
          "data": {
            "text/html": [
              "\n",
              "     <input type=\"file\" id=\"files-c5746787-2ada-42a1-9b3d-1a080837588a\" name=\"files[]\" multiple disabled />\n",
              "     <output id=\"result-c5746787-2ada-42a1-9b3d-1a080837588a\">\n",
              "      Upload widget is only available when the cell has been executed in the\n",
              "      current browser session. Please rerun this cell to enable.\n",
              "      </output>\n",
              "      <script src=\"/nbextensions/google.colab/files.js\"></script> "
            ],
            "text/plain": [
              "<IPython.core.display.HTML object>"
            ]
          },
          "metadata": {
            "tags": []
          }
        },
        {
          "output_type": "stream",
          "text": [
            "Saving 截屏2020-05-11下午2.42.39的副本.png to 截屏2020-05-11下午2.42.39的副本 (3).png\n",
            "User uploaded file \"截屏2020-05-11下午2.42.39的副本.png\" with length 90296 bytes\n"
          ],
          "name": "stdout"
        }
      ]
    },
    {
      "cell_type": "code",
      "metadata": {
        "id": "xvlES5W9yxIg",
        "colab_type": "code",
        "outputId": "274c8e9b-1fd0-4191-819b-6eedebb8935d",
        "colab": {
          "base_uri": "https://localhost:8080/",
          "height": 1000
        }
      },
      "source": [
        "# 从图片CV获取元素\n",
        "images,positionAndText ,img = cv_get_block('/content/pic/crm/1.png')\n",
        "#images,positionAndText ,img = cv_get_block('/content/' + name)\n",
        "# 矩形元素 通过ImageDataGenerator 图像进一步处理\n",
        "# 需要注意的是，通过flow输出的数据是乱序的，并不会严格安装输入的顺序，所以对应关系要存储在label中\n",
        "input_data = datagen.flow(images, positionAndText)\n",
        "image_batch, boxes_batch = next(input_data)\n",
        "# 预测元素\n",
        "predicted_batch = html_model.predict(image_batch)\n",
        "\n",
        "# 结果归一\n",
        "predicted_id = np.argmax(predicted_batch, axis=-1)\n",
        "\n",
        "class_name = np.array(['Select', 'Button', 'Input'])\n",
        "# 结果对应上名字\n",
        "predicted_name = class_name[predicted_id]\n",
        "\n",
        "print(predicted_name)\n",
        "print(boxes_batch)\n",
        "# 图示结果\n",
        "#result_show(image_batch, predicted_name)\n",
        "\n",
        "result_show_in_image(img, boxes_batch, predicted_name)"
      ],
      "execution_count": 146,
      "outputs": [
        {
          "output_type": "stream",
          "text": [
            "\n",
            " 元素识别：\n"
          ],
          "name": "stdout"
        },
        {
          "output_type": "display_data",
          "data": {
            "image/png": "[encoded data removed]",
            "text/plain": [
              "<PIL.Image.Image image mode=RGB size=240x55 at 0x7F54A7757860>"
            ]
          },
          "metadata": {
            "tags": []
          }
        },
        {
          "output_type": "stream",
          "text": [
            "元素内文字:  出 点击上传 ipa 文件\n"
          ],
          "name": "stdout"
        },
        {
          "output_type": "display_data",
          "data": {
            "image/png": "[encoded data removed]",
            "text/plain": [
              "<PIL.Image.Image image mode=L size=197x45 at 0x7F54A7757860>"
            ]
          },
          "metadata": {
            "tags": []
          }
        },
        {
          "output_type": "stream",
          "text": [
            "元素前区域文字：  * 上传ipa 文件:\n",
            "\n",
            " 元素识别：\n"
          ],
          "name": "stdout"
        },
        {
          "output_type": "display_data",
          "data": {
            "image/png": "[encoded data removed]",
            "text/plain": [
              "<PIL.Image.Image image mode=RGB size=468x55 at 0x7F54A7757588>"
            ]
          },
          "metadata": {
            "tags": []
          }
        },
        {
          "output_type": "stream",
          "text": [
            "元素内文字:  请输入版本号 (例如: 11.31)\n"
          ],
          "name": "stdout"
        },
        {
          "output_type": "display_data",
          "data": {
            "image/png": "[encoded data removed]",
            "text/plain": [
              "<PIL.Image.Image image mode=L size=197x45 at 0x7F54A7757588>"
            ]
          },
          "metadata": {
            "tags": []
          }
        },
        {
          "output_type": "stream",
          "text": [
            "元素前区域文字：  * 版本号:\n",
            "\n",
            " 元素识别：\n"
          ],
          "name": "stdout"
        },
        {
          "output_type": "display_data",
          "data": {
            "image/png": "[encoded data removed]",
            "text/plain": [
              "<PIL.Image.Image image mode=RGB size=468x54 at 0x7F54A7757E10>"
            ]
          },
          "metadata": {
            "tags": []
          }
        },
        {
          "output_type": "stream",
          "text": [
            "元素内文字:  \n"
          ],
          "name": "stdout"
        },
        {
          "output_type": "display_data",
          "data": {
            "image/png": "[encoded data removed]",
            "text/plain": [
              "<PIL.Image.Image image mode=L size=197x44 at 0x7F54A7757E10>"
            ]
          },
          "metadata": {
            "tags": []
          }
        },
        {
          "output_type": "stream",
          "text": [
            "元素前区域文字：  * Bundle id :\n",
            "\n",
            " 元素识别：\n"
          ],
          "name": "stdout"
        },
        {
          "output_type": "display_data",
          "data": {
            "image/png": "[encoded data removed]",
            "text/plain": [
              "<PIL.Image.Image image mode=RGB size=468x141 at 0x7F54A7757DA0>"
            ]
          },
          "metadata": {
            "tags": []
          }
        },
        {
          "output_type": "stream",
          "text": [
            "元素内文字:  \n"
          ],
          "name": "stdout"
        },
        {
          "output_type": "display_data",
          "data": {
            "image/png": "[encoded data removed]",
            "text/plain": [
              "<PIL.Image.Image image mode=L size=197x131 at 0x7F54A7757DA0>"
            ]
          },
          "metadata": {
            "tags": []
          }
        },
        {
          "output_type": "stream",
          "text": [
            "元素前区域文字：  * 更新信息:\n",
            "\n",
            " 元素识别：\n"
          ],
          "name": "stdout"
        },
        {
          "output_type": "display_data",
          "data": {
            "image/png": "[encoded data removed]",
            "text/plain": [
              "<PIL.Image.Image image mode=RGB size=468x55 at 0x7F54A7757B38>"
            ]
          },
          "metadata": {
            "tags": []
          }
        },
        {
          "output_type": "stream",
          "text": [
            "元素内文字:  ioS\n"
          ],
          "name": "stdout"
        },
        {
          "output_type": "display_data",
          "data": {
            "image/png": "[encoded data removed]",
            "text/plain": [
              "<PIL.Image.Image image mode=L size=197x45 at 0x7F54A7757B38>"
            ]
          },
          "metadata": {
            "tags": []
          }
        },
        {
          "output_type": "stream",
          "text": [
            "元素前区域文字：  * 平台:\n",
            "\n",
            " 元素识别：\n"
          ],
          "name": "stdout"
        },
        {
          "output_type": "display_data",
          "data": {
            "image/png": "[encoded data removed]",
            "text/plain": [
              "<PIL.Image.Image image mode=RGB size=468x55 at 0x7F54A7757BA8>"
            ]
          },
          "metadata": {
            "tags": []
          }
        },
        {
          "output_type": "stream",
          "text": [
            "元素内文字:  Public\n"
          ],
          "name": "stdout"
        },
        {
          "output_type": "display_data",
          "data": {
            "image/png": "[encoded data removed]",
            "text/plain": [
              "<PIL.Image.Image image mode=L size=197x45 at 0x7F54A7757BA8>"
            ]
          },
          "metadata": {
            "tags": []
          }
        },
        {
          "output_type": "stream",
          "text": [
            "元素前区域文字：  * 包类型:\n",
            "\n",
            " 元素识别：\n"
          ],
          "name": "stdout"
        },
        {
          "output_type": "display_data",
          "data": {
            "image/png": "[encoded data removed]",
            "text/plain": [
              "<PIL.Image.Image image mode=RGB size=468x54 at 0x7F54A7757C50>"
            ]
          },
          "metadata": {
            "tags": []
          }
        },
        {
          "output_type": "stream",
          "text": [
            "元素内文字:  雪球\n"
          ],
          "name": "stdout"
        },
        {
          "output_type": "display_data",
          "data": {
            "image/png": "[encoded data removed]",
            "text/plain": [
              "<PIL.Image.Image image mode=L size=197x44 at 0x7F54A7757C50>"
            ]
          },
          "metadata": {
            "tags": []
          }
        },
        {
          "output_type": "stream",
          "text": [
            "元素前区域文字：  * APP名:\n",
            "['Select' 'Input' 'Input' 'Input' 'Select' 'Button' 'Input']\n",
            "[[array([[197, 248],\n",
            "       [197, 203],\n",
            "       [655, 203],\n",
            "       [655, 248]])\n",
            "  'ioS' '* 平台:']\n",
            " [array([[197, 159],\n",
            "       [197, 114],\n",
            "       [655, 114],\n",
            "       [655, 159]])\n",
            "  'Public' '* 包类型:']\n",
            " [array([[197, 417],\n",
            "       [197, 286],\n",
            "       [655, 286],\n",
            "       [655, 417]])\n",
            "  '' '* 更新信息:']\n",
            " [array([[197, 594],\n",
            "       [197, 549],\n",
            "       [655, 549],\n",
            "       [655, 594]])\n",
            "  '请输入版本号 (例如: 11.31)' '* 版本号:']\n",
            " [array([[197,  70],\n",
            "       [197,  26],\n",
            "       [655,  26],\n",
            "       [655,  70]])\n",
            "  '雪球' '* APP名:']\n",
            " [array([[197, 682],\n",
            "       [197, 637],\n",
            "       [427, 637],\n",
            "       [427, 682]])\n",
            "  '出 点击上传 ipa 文件' '* 上传ipa 文件:']\n",
            " [array([[197, 505],\n",
            "       [197, 461],\n",
            "       [655, 461],\n",
            "       [655, 505]])\n",
            "  '' '* Bundle id :']]\n",
            "组件0: 组件: Select ：ioS     before：* 平台:\n",
            "组件1: 组件: Input ：Public     before：* 包类型:\n",
            "组件2: 组件: Input ：     before：* 更新信息:\n",
            "组件3: 组件: Input ：请输入版本号 (例如: 11.31)     before：* 版本号:\n",
            "组件4: 组件: Select ：雪球     before：* APP名:\n",
            "组件5: 组件: Button ：出 点击上传 ipa 文件     before：* 上传ipa 文件:\n",
            "组件6: 组件: Input ：     before：* Bundle id :\n"
          ],
          "name": "stdout"
        },
        {
          "output_type": "display_data",
          "data": {
            "image/png": "[encoded data removed]",
            "text/plain": [
              "<PIL.Image.Image image mode=RGB size=700x701 at 0x7F54A7784908>"
            ]
          },
          "metadata": {
            "tags": []
          }
        }
      ]
    },
    {
      "cell_type": "code",
      "metadata": {
        "id": "YwWNy5hcMtvQ",
        "colab_type": "code",
        "outputId": "b1f44f52-f38d-4c7b-f608-e4efa82f1bfe",
        "colab": {
          "base_uri": "https://localhost:8080/",
          "height": 136
        }
      },
      "source": [
        "# 代码转换 生成的数据转 scheme\n",
        "\n",
        "import json\n",
        "\n",
        "result_list = []\n",
        "for index in range(len(boxes_batch)):\n",
        "  item = np.append(boxes_batch[index], predicted_name[index])\n",
        "  # 翻译命名\n",
        "  item = np.append(item, translate(boxes_batch[index][2]))\n",
        "  result_list.append(item)\n",
        "\n",
        "class NumpyEncoder(json.JSONEncoder):\n",
        "    def default(self, obj):\n",
        "        if isinstance(obj, np.ndarray):\n",
        "            return obj.tolist()\n",
        "        return json.JSONEncoder.default(self, obj)\n",
        "\n",
        "json_result = json.dumps(result_list, cls=NumpyEncoder)\n",
        "\n"
      ],
      "execution_count": 147,
      "outputs": [
        {
          "output_type": "stream",
          "text": [
            "表单项： 平台———— 驼峰命名：platform\n",
            "表单项： 包类型———— 驼峰命名：packageType\n",
            "表单项： 更新信息———— 驼峰命名：updateTheInformation\n",
            "表单项： 版本号———— 驼峰命名：theVersionNumber\n",
            "表单项： APP名———— 驼峰命名：theAppName\n",
            "表单项： 上传ipa 文件———— 驼峰命名：uploadIpaFile\n",
            "表单项： Bundle id ———— 驼峰命名：包id\n"
          ],
          "name": "stdout"
        }
      ]
    },
    {
      "cell_type": "code",
      "metadata": {
        "id": "CsKu2_6Gfnre",
        "colab_type": "code",
        "colab": {
          "base_uri": "https://localhost:8080/",
          "height": 54
        },
        "outputId": "7714898b-8965-4bc3-e7cd-9c45c665e9c5"
      },
      "source": [
        "# 输出 转js处理\n",
        "print('module.exports = ' + json_result)"
      ],
      "execution_count": 148,
      "outputs": [
        {
          "output_type": "stream",
          "text": [
            "module.exports = [[[[197, 248], [197, 203], [655, 203], [655, 248]], \"ioS\", \"* \\u5e73\\u53f0:\", \"Select\", \"platform\"], [[[197, 159], [197, 114], [655, 114], [655, 159]], \"Public\", \"* \\u5305\\u7c7b\\u578b:\", \"Input\", \"packageType\"], [[[197, 417], [197, 286], [655, 286], [655, 417]], \"\", \"* \\u66f4\\u65b0\\u4fe1\\u606f:\", \"Input\", \"updateTheInformation\"], [[[197, 594], [197, 549], [655, 549], [655, 594]], \"\\u8bf7\\u8f93\\u5165\\u7248\\u672c\\u53f7 (\\u4f8b\\u5982: 11.31)\", \"* \\u7248\\u672c\\u53f7:\", \"Input\", \"theVersionNumber\"], [[[197, 70], [197, 26], [655, 26], [655, 70]], \"\\u96ea\\u7403\", \"* APP\\u540d:\", \"Select\", \"theAppName\"], [[[197, 682], [197, 637], [427, 637], [427, 682]], \"\\u51fa \\u70b9\\u51fb\\u4e0a\\u4f20 ipa \\u6587\\u4ef6\", \"* \\u4e0a\\u4f20ipa \\u6587\\u4ef6:\", \"Button\", \"uploadIpaFile\"], [[[197, 505], [197, 461], [655, 461], [655, 505]], \"\", \"* Bundle id :\", \"Input\", \"\\u5305id\"]]\n"
          ],
          "name": "stdout"
        }
      ]
    }
  ]
}